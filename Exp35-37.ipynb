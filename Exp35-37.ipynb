{
 "cells": [
  {
   "cell_type": "code",
   "execution_count": 2,
   "id": "1743c9f1-7e6d-4d2f-93fd-f769ad83d22a",
   "metadata": {},
   "outputs": [],
   "source": [
    "import pandas as pd\n",
    "from sklearn.model_selection import train_test_split\n",
    "from sklearn.tree import DecisionTreeClassifier\n",
    "from sklearn.metrics import accuracy_score"
   ]
  },
  {
   "cell_type": "code",
   "execution_count": 3,
   "id": "35a0b26b-2cb8-474a-94d4-6733010a7b74",
   "metadata": {},
   "outputs": [],
   "source": [
    "df=pd.read_csv('./Iris.csv')"
   ]
  },
  {
   "cell_type": "code",
   "execution_count": 5,
   "id": "d054d34b-e4a7-43b0-93d0-f4b8b83c6e25",
   "metadata": {},
   "outputs": [],
   "source": [
    "X=df.drop(columns='Species')\n",
    "Y=df['Species']"
   ]
  },
  {
   "cell_type": "code",
   "execution_count": 6,
   "id": "283df6ca-6ec9-4337-ae1c-6ddc107e6977",
   "metadata": {},
   "outputs": [],
   "source": [
    "X_train, X_test, Y_train, Y_test=train_test_split(X,Y,test_size=0.2,random_state=42)"
   ]
  },
  {
   "cell_type": "code",
   "execution_count": 9,
   "id": "53cdc18b-7b74-43f9-b5b3-84ad5e009990",
   "metadata": {},
   "outputs": [
    {
     "name": "stdout",
     "output_type": "stream",
     "text": [
      "1.0\n"
     ]
    }
   ],
   "source": [
    "# Exp 35\n",
    "dt1=DecisionTreeClassifier(criterion='gini',max_depth=4,min_samples_split=2,random_state=42)\n",
    "dt1.fit(X_train,Y_train)\n",
    "\n",
    "y_pred1=dt1.predict(X_test)\n",
    "accuracy1=accuracy_score(Y_test,y_pred1)\n",
    "print(accuracy1)"
   ]
  },
  {
   "cell_type": "code",
   "execution_count": 10,
   "id": "4dfb5d6b-81dd-4de1-b2d2-5bc57064d740",
   "metadata": {},
   "outputs": [
    {
     "name": "stdout",
     "output_type": "stream",
     "text": [
      "1.0\n"
     ]
    }
   ],
   "source": [
    "# Exp 36\n",
    "dt2=DecisionTreeClassifier(criterion='entropy',max_depth=4,min_samples_split=2,random_state=42)\n",
    "dt2.fit(X_train,Y_train)\n",
    "\n",
    "y_pred2=dt2.predict(X_test)\n",
    "accuracy2=accuracy_score(Y_test,y_pred2)\n",
    "print(accuracy2)"
   ]
  },
  {
   "cell_type": "code",
   "execution_count": 11,
   "id": "d03dc397-c5dd-42eb-be42-07fa72f34d37",
   "metadata": {},
   "outputs": [
    {
     "name": "stdout",
     "output_type": "stream",
     "text": [
      "1.0\n"
     ]
    }
   ],
   "source": [
    "# Exp 37\n",
    "dt3=DecisionTreeClassifier(criterion='log_loss',max_depth=4,min_samples_split=2,random_state=42)\n",
    "dt3.fit(X_train,Y_train)\n",
    "\n",
    "y_pred3=dt3.predict(X_test)\n",
    "accuracy3=accuracy_score(Y_test,y_pred3)\n",
    "print(accuracy3)"
   ]
  },
  {
   "cell_type": "code",
   "execution_count": null,
   "id": "c9f24c89-aa9b-4cdc-aee0-a78a698f9e06",
   "metadata": {},
   "outputs": [],
   "source": []
  }
 ],
 "metadata": {
  "kernelspec": {
   "display_name": "Python 3 (ipykernel)",
   "language": "python",
   "name": "python3"
  },
  "language_info": {
   "codemirror_mode": {
    "name": "ipython",
    "version": 3
   },
   "file_extension": ".py",
   "mimetype": "text/x-python",
   "name": "python",
   "nbconvert_exporter": "python",
   "pygments_lexer": "ipython3",
   "version": "3.11.3"
  }
 },
 "nbformat": 4,
 "nbformat_minor": 5
}
