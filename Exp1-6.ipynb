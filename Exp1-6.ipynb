{
 "cells": [
  {
   "cell_type": "code",
   "execution_count": 49,
   "id": "6f2df63a-5438-4de7-ba8d-f2a335d5b3de",
   "metadata": {},
   "outputs": [],
   "source": [
    "import numpy as np\n",
    "import pandas as pd\n",
    "from sklearn.model_selection import train_test_split\n",
    "from sklearn.metrics import mean_squared_error\n",
    "from math import sqrt"
   ]
  },
  {
   "cell_type": "code",
   "execution_count": 50,
   "id": "51717ba8-d128-4a3a-b1b3-beb9bbd39f72",
   "metadata": {},
   "outputs": [
    {
     "data": {
      "text/html": [
       "<div>\n",
       "<style scoped>\n",
       "    .dataframe tbody tr th:only-of-type {\n",
       "        vertical-align: middle;\n",
       "    }\n",
       "\n",
       "    .dataframe tbody tr th {\n",
       "        vertical-align: top;\n",
       "    }\n",
       "\n",
       "    .dataframe thead th {\n",
       "        text-align: right;\n",
       "    }\n",
       "</style>\n",
       "<table border=\"1\" class=\"dataframe\">\n",
       "  <thead>\n",
       "    <tr style=\"text-align: right;\">\n",
       "      <th></th>\n",
       "      <th>Unnamed: 0</th>\n",
       "      <th>TV Ad Budget ($)</th>\n",
       "      <th>Radio Ad Budget ($)</th>\n",
       "      <th>Newspaper Ad Budget ($)</th>\n",
       "      <th>Sales ($)</th>\n",
       "    </tr>\n",
       "  </thead>\n",
       "  <tbody>\n",
       "    <tr>\n",
       "      <th>0</th>\n",
       "      <td>1</td>\n",
       "      <td>230.1</td>\n",
       "      <td>37.8</td>\n",
       "      <td>69.2</td>\n",
       "      <td>22.1</td>\n",
       "    </tr>\n",
       "    <tr>\n",
       "      <th>1</th>\n",
       "      <td>2</td>\n",
       "      <td>44.5</td>\n",
       "      <td>39.3</td>\n",
       "      <td>45.1</td>\n",
       "      <td>10.4</td>\n",
       "    </tr>\n",
       "    <tr>\n",
       "      <th>2</th>\n",
       "      <td>3</td>\n",
       "      <td>17.2</td>\n",
       "      <td>45.9</td>\n",
       "      <td>69.3</td>\n",
       "      <td>9.3</td>\n",
       "    </tr>\n",
       "    <tr>\n",
       "      <th>3</th>\n",
       "      <td>4</td>\n",
       "      <td>151.5</td>\n",
       "      <td>41.3</td>\n",
       "      <td>58.5</td>\n",
       "      <td>18.5</td>\n",
       "    </tr>\n",
       "    <tr>\n",
       "      <th>4</th>\n",
       "      <td>5</td>\n",
       "      <td>180.8</td>\n",
       "      <td>10.8</td>\n",
       "      <td>58.4</td>\n",
       "      <td>12.9</td>\n",
       "    </tr>\n",
       "  </tbody>\n",
       "</table>\n",
       "</div>"
      ],
      "text/plain": [
       "   Unnamed: 0  TV Ad Budget ($)  Radio Ad Budget ($)  Newspaper Ad Budget ($)  \\\n",
       "0           1             230.1                 37.8                     69.2   \n",
       "1           2              44.5                 39.3                     45.1   \n",
       "2           3              17.2                 45.9                     69.3   \n",
       "3           4             151.5                 41.3                     58.5   \n",
       "4           5             180.8                 10.8                     58.4   \n",
       "\n",
       "   Sales ($)  \n",
       "0       22.1  \n",
       "1       10.4  \n",
       "2        9.3  \n",
       "3       18.5  \n",
       "4       12.9  "
      ]
     },
     "execution_count": 50,
     "metadata": {},
     "output_type": "execute_result"
    }
   ],
   "source": [
    "df=pd.read_csv('./Advertising Budget and Sales.csv')\n",
    "df.head()"
   ]
  },
  {
   "cell_type": "code",
   "execution_count": 51,
   "id": "d49b7a34-534b-4d14-a022-d70b635180b7",
   "metadata": {},
   "outputs": [],
   "source": [
    "# X=df[['Radio Ad Budget ($)']] # Exp 1\n",
    "\n",
    "# X=df[['TV Ad Budget ($)']] # Exp 2\n",
    "\n",
    "# X=df[['Newspaper Ad Budget ($)']] # Exp 3\n",
    "\n",
    "# X=df[['TV Ad Budget ($)','Radio Ad Budget ($)']] # Exp 4\n",
    "\n",
    "# X=df[['Newspaper Ad Budget ($)','TV Ad Budget ($)']] # Exp 5\n",
    "\n",
    "X=df[['Newspaper Ad Budget ($)','Radio Ad Budget ($)']] # Exp 6\n",
    "\n",
    "Y=df['Sales ($)']\n",
    "\n",
    "X_train, X_test, Y_train, Y_test = train_test_split(X,Y,test_size=0.2,random_state=42)"
   ]
  },
  {
   "cell_type": "code",
   "execution_count": 52,
   "id": "f06c4c41-882f-4b6b-889e-9bf05b85a2d6",
   "metadata": {},
   "outputs": [],
   "source": [
    "def LRGD(X_train,X_test,Y_train,Y_test,lr=0.001,iters=5000):\n",
    "    \n",
    "    mean=np.mean(X_train,axis=0)\n",
    "    std=np.std(X_train,axis=0)\n",
    "    X_train_norm=(X_train-mean)/std\n",
    "    X_test_norm=(X_test-mean)/std\n",
    "\n",
    "    X_train_b=np.c_[np.ones(X_train_norm.shape[0]),X_train_norm]\n",
    "    X_test_b=np.c_[np.ones(X_test_norm.shape[0]),X_test_norm]\n",
    "\n",
    "    m,n=X_train_b.shape\n",
    "    theta=np.zeros(n)\n",
    "\n",
    "    for i in range(iters):\n",
    "        pred=np.dot(X_train_b,theta)\n",
    "        error=pred-Y_train\n",
    "        grad=(1/m)*np.dot(X_train_b.T,error)\n",
    "        theta-=lr*grad\n",
    "\n",
    "    y_pred=np.dot(X_test_b,theta)\n",
    "\n",
    "    return y_pred"
   ]
  },
  {
   "cell_type": "code",
   "execution_count": 53,
   "id": "190bc2ac-b843-4b7a-9eca-0b06cdea3c00",
   "metadata": {},
   "outputs": [],
   "source": [
    "y_pred=LRGD(X_train,X_test,Y_train,Y_test)"
   ]
  },
  {
   "cell_type": "code",
   "execution_count": 54,
   "id": "326658e4-8232-4856-8ab3-d35b689d00a6",
   "metadata": {},
   "outputs": [
    {
     "name": "stdout",
     "output_type": "stream",
     "text": [
      "4.796079709408915\n"
     ]
    }
   ],
   "source": [
    "rmse=sqrt(mean_squared_error(Y_test,y_pred))\n",
    "print(rmse)"
   ]
  },
  {
   "cell_type": "code",
   "execution_count": null,
   "id": "e278bcc0-f2ae-4422-ad4b-86102aa522b2",
   "metadata": {},
   "outputs": [],
   "source": []
  }
 ],
 "metadata": {
  "kernelspec": {
   "display_name": "Python 3 (ipykernel)",
   "language": "python",
   "name": "python3"
  },
  "language_info": {
   "codemirror_mode": {
    "name": "ipython",
    "version": 3
   },
   "file_extension": ".py",
   "mimetype": "text/x-python",
   "name": "python",
   "nbconvert_exporter": "python",
   "pygments_lexer": "ipython3",
   "version": "3.11.3"
  }
 },
 "nbformat": 4,
 "nbformat_minor": 5
}
