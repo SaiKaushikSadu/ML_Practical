{
 "cells": [
  {
   "cell_type": "code",
   "execution_count": 13,
   "id": "d65649c6-ec71-43b2-92a1-3eb287fc82a7",
   "metadata": {},
   "outputs": [],
   "source": [
    "import pandas as pd\n",
    "from sklearn.model_selection import train_test_split\n",
    "from sklearn.svm import SVC\n",
    "from sklearn.preprocessing import StandardScaler, LabelEncoder\n",
    "from sklearn.metrics import accuracy_score,recall_score,precision_score,confusion_matrix,f1_score"
   ]
  },
  {
   "cell_type": "code",
   "execution_count": 14,
   "id": "8de730ba-dc35-4476-a65b-4fb602e64edf",
   "metadata": {},
   "outputs": [
    {
     "name": "stdout",
     "output_type": "stream",
     "text": [
      "<class 'pandas.core.frame.DataFrame'>\n",
      "RangeIndex: 150 entries, 0 to 149\n",
      "Data columns (total 6 columns):\n",
      " #   Column         Non-Null Count  Dtype  \n",
      "---  ------         --------------  -----  \n",
      " 0   Id             150 non-null    int64  \n",
      " 1   SepalLengthCm  150 non-null    float64\n",
      " 2   SepalWidthCm   150 non-null    float64\n",
      " 3   PetalLengthCm  150 non-null    float64\n",
      " 4   PetalWidthCm   150 non-null    float64\n",
      " 5   Species        150 non-null    object \n",
      "dtypes: float64(4), int64(1), object(1)\n",
      "memory usage: 7.2+ KB\n"
     ]
    }
   ],
   "source": [
    "df=pd.read_csv('./Iris.csv')\n",
    "df.head()\n",
    "df.info()"
   ]
  },
  {
   "cell_type": "code",
   "execution_count": 15,
   "id": "d9e524b0-eefd-47dc-8056-2b735e0b5089",
   "metadata": {},
   "outputs": [],
   "source": [
    "le=LabelEncoder()\n",
    "df['Species']=le.fit_transform(df['Species'])\n",
    "\n",
    "X=df[['SepalLengthCm','SepalWidthCm','PetalLengthCm','PetalWidthCm']]\n",
    "Y=df['Species']"
   ]
  },
  {
   "cell_type": "code",
   "execution_count": 16,
   "id": "cc36fda3-64bb-4d01-bc36-15722749cd43",
   "metadata": {},
   "outputs": [],
   "source": [
    "X_train, X_test, Y_train, Y_test = train_test_split(X,Y,test_size=0.2,random_state=42)"
   ]
  },
  {
   "cell_type": "code",
   "execution_count": 17,
   "id": "5232fa13-a506-4e2d-bbb2-b48eed89b8da",
   "metadata": {},
   "outputs": [],
   "source": [
    "ss=StandardScaler()\n",
    "X_train=ss.fit_transform(X_train)\n",
    "X_test=ss.transform(X_test)"
   ]
  },
  {
   "cell_type": "code",
   "execution_count": 18,
   "id": "3146eb70-2636-48ad-8c4b-1fda91d4fdc5",
   "metadata": {},
   "outputs": [],
   "source": [
    "classifier_rbf=SVC(kernel='rbf')\n",
    "classifier_rbf.fit(X_train,Y_train)\n",
    "\n",
    "y_pred_rbf=classifier_rbf.predict(X_test)"
   ]
  },
  {
   "cell_type": "code",
   "execution_count": 19,
   "id": "98bd9bea-dcfc-497f-871f-ca9d316044c1",
   "metadata": {},
   "outputs": [
    {
     "name": "stdout",
     "output_type": "stream",
     "text": [
      "1.0\n"
     ]
    }
   ],
   "source": [
    "# Exp 33\n",
    "accuracy=accuracy_score(Y_test,y_pred_rbf)\n",
    "print(accuracy)"
   ]
  },
  {
   "cell_type": "code",
   "execution_count": 20,
   "id": "a2c42e8b-fdc9-4994-a7ed-50cb4c526c3e",
   "metadata": {},
   "outputs": [
    {
     "name": "stdout",
     "output_type": "stream",
     "text": [
      "1.0\n"
     ]
    }
   ],
   "source": [
    "# Exp 32\n",
    "recall=recall_score(Y_test,y_pred_rbf,average='macro')\n",
    "print(recall)"
   ]
  },
  {
   "cell_type": "code",
   "execution_count": 21,
   "id": "a4a94a27-8e01-4dd2-befc-d87a8585f460",
   "metadata": {},
   "outputs": [
    {
     "name": "stdout",
     "output_type": "stream",
     "text": [
      "1.0\n"
     ]
    }
   ],
   "source": [
    "# Exp 31\n",
    "precision=precision_score(Y_test,y_pred_rbf,average='macro')\n",
    "print(precision)"
   ]
  },
  {
   "cell_type": "code",
   "execution_count": 22,
   "id": "1dddcd39-074f-4a30-a1f7-b90821355fd3",
   "metadata": {},
   "outputs": [
    {
     "name": "stdout",
     "output_type": "stream",
     "text": [
      "1.0\n"
     ]
    }
   ],
   "source": [
    "# Exp 34\n",
    "f1=f1_score(Y_test,y_pred_rbf,average='micro')\n",
    "print(f1)"
   ]
  },
  {
   "cell_type": "code",
   "execution_count": 23,
   "id": "b7ce379f-48c1-40af-b40d-a1c29da9de50",
   "metadata": {},
   "outputs": [
    {
     "name": "stdout",
     "output_type": "stream",
     "text": [
      "[[10  0  0]\n",
      " [ 0  9  0]\n",
      " [ 0  0 11]]\n"
     ]
    }
   ],
   "source": [
    "# All Exp\n",
    "cm=confusion_matrix(Y_test,y_pred_rbf)\n",
    "print(cm)"
   ]
  },
  {
   "cell_type": "code",
   "execution_count": null,
   "id": "37e79a99-2cab-4a53-92c9-496f6840dd7e",
   "metadata": {},
   "outputs": [],
   "source": []
  }
 ],
 "metadata": {
  "kernelspec": {
   "display_name": "Python 3 (ipykernel)",
   "language": "python",
   "name": "python3"
  },
  "language_info": {
   "codemirror_mode": {
    "name": "ipython",
    "version": 3
   },
   "file_extension": ".py",
   "mimetype": "text/x-python",
   "name": "python",
   "nbconvert_exporter": "python",
   "pygments_lexer": "ipython3",
   "version": "3.11.3"
  }
 },
 "nbformat": 4,
 "nbformat_minor": 5
}
