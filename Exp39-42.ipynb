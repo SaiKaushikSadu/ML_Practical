{
 "cells": [
  {
   "cell_type": "code",
   "execution_count": 25,
   "id": "847f0e5f-3c87-4e96-b997-50797f134dea",
   "metadata": {},
   "outputs": [
    {
     "name": "stdout",
     "output_type": "stream",
     "text": [
      "Bagging, Random Forest, Gradient Boost, AdaBoost Classifiers\n"
     ]
    }
   ],
   "source": [
    "print(\"Bagging,\",\"Random Forest,\",\"Gradient Boost,\",\"AdaBoost\",\"Classifiers\")"
   ]
  },
  {
   "cell_type": "code",
   "execution_count": 26,
   "id": "dbe37d97-f096-4849-9f61-1cf787bd8df7",
   "metadata": {},
   "outputs": [],
   "source": [
    "import pandas as pd\n",
    "from sklearn.model_selection import train_test_split\n",
    "from sklearn.ensemble import BaggingClassifier, GradientBoostingClassifier, RandomForestClassifier, AdaBoostClassifier\n",
    "from sklearn.metrics import accuracy_score"
   ]
  },
  {
   "cell_type": "code",
   "execution_count": 27,
   "id": "ec322fb9-de7a-419b-95c2-7b019c1b701a",
   "metadata": {},
   "outputs": [],
   "source": [
    "df=pd.read_csv(\"./Iris.csv\")"
   ]
  },
  {
   "cell_type": "code",
   "execution_count": 28,
   "id": "f4424e9c-3e20-4328-b717-ff9154808458",
   "metadata": {},
   "outputs": [],
   "source": [
    "X=df.drop(columns='Species')\n",
    "Y=df['Species']"
   ]
  },
  {
   "cell_type": "code",
   "execution_count": 29,
   "id": "9563fa63-d601-4e35-a6af-88574a259544",
   "metadata": {},
   "outputs": [],
   "source": [
    "X_train, X_test, Y_train, Y_test = train_test_split(X,Y,test_size=0.2,random_state=42)"
   ]
  },
  {
   "cell_type": "code",
   "execution_count": 30,
   "id": "43ad0c3d-a237-4400-8f66-8bed681e0ac7",
   "metadata": {},
   "outputs": [
    {
     "name": "stdout",
     "output_type": "stream",
     "text": [
      "['Iris-versicolor' 'Iris-setosa' 'Iris-virginica' 'Iris-versicolor'\n",
      " 'Iris-versicolor' 'Iris-setosa' 'Iris-versicolor' 'Iris-virginica'\n",
      " 'Iris-versicolor' 'Iris-versicolor' 'Iris-virginica' 'Iris-setosa'\n",
      " 'Iris-setosa' 'Iris-setosa' 'Iris-setosa' 'Iris-versicolor'\n",
      " 'Iris-virginica' 'Iris-versicolor' 'Iris-versicolor' 'Iris-virginica'\n",
      " 'Iris-setosa' 'Iris-virginica' 'Iris-setosa' 'Iris-virginica'\n",
      " 'Iris-virginica' 'Iris-virginica' 'Iris-virginica' 'Iris-virginica'\n",
      " 'Iris-setosa' 'Iris-setosa']\n",
      "1.0\n"
     ]
    }
   ],
   "source": [
    "# Exp 39\n",
    "bg_classifier=BaggingClassifier(n_estimators=100,random_state=42)\n",
    "bg_classifier.fit(X_train,Y_train)\n",
    "\n",
    "y_pred1=bg_classifier.predict(X_test)\n",
    "print(y_pred1)\n",
    "accuracy1=accuracy_score(Y_test,y_pred1)\n",
    "print(accuracy1)"
   ]
  },
  {
   "cell_type": "code",
   "execution_count": 31,
   "id": "77e5082a-638d-4a8b-9d7a-1632f1a65246",
   "metadata": {},
   "outputs": [
    {
     "name": "stdout",
     "output_type": "stream",
     "text": [
      "['Iris-versicolor' 'Iris-setosa' 'Iris-virginica' 'Iris-versicolor'\n",
      " 'Iris-versicolor' 'Iris-setosa' 'Iris-versicolor' 'Iris-virginica'\n",
      " 'Iris-versicolor' 'Iris-versicolor' 'Iris-virginica' 'Iris-setosa'\n",
      " 'Iris-setosa' 'Iris-setosa' 'Iris-setosa' 'Iris-versicolor'\n",
      " 'Iris-virginica' 'Iris-versicolor' 'Iris-versicolor' 'Iris-virginica'\n",
      " 'Iris-setosa' 'Iris-virginica' 'Iris-setosa' 'Iris-virginica'\n",
      " 'Iris-virginica' 'Iris-virginica' 'Iris-virginica' 'Iris-virginica'\n",
      " 'Iris-setosa' 'Iris-setosa']\n",
      "1.0\n"
     ]
    }
   ],
   "source": [
    "# Exp 40\n",
    "rf_classifier=RandomForestClassifier(n_estimators=100,random_state=42)\n",
    "rf_classifier.fit(X_train,Y_train)\n",
    "\n",
    "y_pred2=rf_classifier.predict(X_test)\n",
    "print(y_pred2)\n",
    "accuracy2=accuracy_score(Y_test,y_pred2)\n",
    "print(accuracy2)"
   ]
  },
  {
   "cell_type": "code",
   "execution_count": 32,
   "id": "4ea3f080-a0df-4bd4-b49c-fb087ce33a2b",
   "metadata": {},
   "outputs": [
    {
     "name": "stdout",
     "output_type": "stream",
     "text": [
      "['Iris-versicolor' 'Iris-setosa' 'Iris-virginica' 'Iris-versicolor'\n",
      " 'Iris-versicolor' 'Iris-setosa' 'Iris-versicolor' 'Iris-virginica'\n",
      " 'Iris-versicolor' 'Iris-versicolor' 'Iris-virginica' 'Iris-setosa'\n",
      " 'Iris-setosa' 'Iris-setosa' 'Iris-setosa' 'Iris-versicolor'\n",
      " 'Iris-virginica' 'Iris-versicolor' 'Iris-versicolor' 'Iris-virginica'\n",
      " 'Iris-setosa' 'Iris-virginica' 'Iris-setosa' 'Iris-virginica'\n",
      " 'Iris-virginica' 'Iris-virginica' 'Iris-virginica' 'Iris-virginica'\n",
      " 'Iris-setosa' 'Iris-setosa']\n",
      "1.0\n"
     ]
    }
   ],
   "source": [
    "# Exp 41\n",
    "gd_classifier=GradientBoostingClassifier(n_estimators=100,random_state=42)\n",
    "gd_classifier.fit(X_train,Y_train)\n",
    "\n",
    "y_pred3=gd_classifier.predict(X_test)\n",
    "print(y_pred3)\n",
    "accuracy3=accuracy_score(Y_test,y_pred3)\n",
    "print(accuracy3)"
   ]
  },
  {
   "cell_type": "code",
   "execution_count": 33,
   "id": "04b8eb24-2793-4f26-9d41-71aca0948bf6",
   "metadata": {},
   "outputs": [
    {
     "name": "stdout",
     "output_type": "stream",
     "text": [
      "['Iris-versicolor' 'Iris-setosa' 'Iris-virginica' 'Iris-versicolor'\n",
      " 'Iris-versicolor' 'Iris-setosa' 'Iris-versicolor' 'Iris-virginica'\n",
      " 'Iris-versicolor' 'Iris-versicolor' 'Iris-virginica' 'Iris-setosa'\n",
      " 'Iris-setosa' 'Iris-setosa' 'Iris-setosa' 'Iris-versicolor'\n",
      " 'Iris-virginica' 'Iris-versicolor' 'Iris-versicolor' 'Iris-virginica'\n",
      " 'Iris-setosa' 'Iris-virginica' 'Iris-setosa' 'Iris-virginica'\n",
      " 'Iris-virginica' 'Iris-virginica' 'Iris-virginica' 'Iris-virginica'\n",
      " 'Iris-setosa' 'Iris-setosa']\n",
      "1.0\n"
     ]
    }
   ],
   "source": [
    "# Exp 42\n",
    "ab_classifier=AdaBoostClassifier(n_estimators=100,random_state=42)\n",
    "ab_classifier.fit(X_train,Y_train)\n",
    "\n",
    "y_pred4=ab_classifier.predict(X_test)\n",
    "print(y_pred4)\n",
    "accuracy4=accuracy_score(Y_test,y_pred4)\n",
    "print(accuracy4)"
   ]
  }
 ],
 "metadata": {
  "kernelspec": {
   "display_name": "Python 3 (ipykernel)",
   "language": "python",
   "name": "python3"
  },
  "language_info": {
   "codemirror_mode": {
    "name": "ipython",
    "version": 3
   },
   "file_extension": ".py",
   "mimetype": "text/x-python",
   "name": "python",
   "nbconvert_exporter": "python",
   "pygments_lexer": "ipython3",
   "version": "3.11.3"
  }
 },
 "nbformat": 4,
 "nbformat_minor": 5
}
